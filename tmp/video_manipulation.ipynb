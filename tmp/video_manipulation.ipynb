{
 "cells": [
  {
   "cell_type": "code",
   "execution_count": 8,
   "id": "quarterly-bandwidth",
   "metadata": {},
   "outputs": [],
   "source": [
    "import cv2 # opencv python"
   ]
  },
  {
   "cell_type": "code",
   "execution_count": 4,
   "id": "arranged-idaho",
   "metadata": {},
   "outputs": [],
   "source": [
    "import imageio"
   ]
  },
  {
   "cell_type": "code",
   "execution_count": 10,
   "id": "legitimate-mining",
   "metadata": {},
   "outputs": [],
   "source": [
    "reader = imageio.get_reader('rnzkimwxcn3.mp4')"
   ]
  },
  {
   "cell_type": "code",
   "execution_count": null,
   "id": "curious-magazine",
   "metadata": {},
   "outputs": [],
   "source": [
    "# https://github.com/Breakthrough/PySceneDetect\n",
    "\n",
    "# https://pyscenedetect.readthedocs.io/en/latest/reference/detection-methods/\n",
    "\n",
    "# https://pyscenedetect.readthedocs.io/en/latest/reference/command-line-params/\n"
   ]
  },
  {
   "cell_type": "code",
   "execution_count": null,
   "id": "posted-attempt",
   "metadata": {},
   "outputs": [],
   "source": [
    "# threshold detector \n"
   ]
  },
  {
   "cell_type": "code",
   "execution_count": 12,
   "id": "empirical-idaho",
   "metadata": {},
   "outputs": [
    {
     "ename": "ImportError",
     "evalue": "Keras requires TensorFlow 2.2 or higher. Install TensorFlow via `pip install tensorflow`",
     "output_type": "error",
     "traceback": [
      "\u001b[1;31m---------------------------------------------------------------------------\u001b[0m",
      "\u001b[1;31mModuleNotFoundError\u001b[0m                       Traceback (most recent call last)",
      "\u001b[1;32mc:\\users\\alind\\appdata\\local\\programs\\python\\python39\\lib\\site-packages\\keras\\__init__.py\u001b[0m in \u001b[0;36m<module>\u001b[1;34m\u001b[0m\n\u001b[0;32m      2\u001b[0m \u001b[1;32mtry\u001b[0m\u001b[1;33m:\u001b[0m\u001b[1;33m\u001b[0m\u001b[1;33m\u001b[0m\u001b[0m\n\u001b[1;32m----> 3\u001b[1;33m     \u001b[1;32mfrom\u001b[0m \u001b[0mtensorflow\u001b[0m\u001b[1;33m.\u001b[0m\u001b[0mkeras\u001b[0m\u001b[1;33m.\u001b[0m\u001b[0mlayers\u001b[0m\u001b[1;33m.\u001b[0m\u001b[0mexperimental\u001b[0m\u001b[1;33m.\u001b[0m\u001b[0mpreprocessing\u001b[0m \u001b[1;32mimport\u001b[0m \u001b[0mRandomRotation\u001b[0m\u001b[1;33m\u001b[0m\u001b[1;33m\u001b[0m\u001b[0m\n\u001b[0m\u001b[0;32m      4\u001b[0m \u001b[1;32mexcept\u001b[0m \u001b[0mImportError\u001b[0m\u001b[1;33m:\u001b[0m\u001b[1;33m\u001b[0m\u001b[1;33m\u001b[0m\u001b[0m\n",
      "\u001b[1;31mModuleNotFoundError\u001b[0m: No module named 'tensorflow'",
      "\nDuring handling of the above exception, another exception occurred:\n",
      "\u001b[1;31mImportError\u001b[0m                               Traceback (most recent call last)",
      "\u001b[1;32m<ipython-input-12-88d96843a926>\u001b[0m in \u001b[0;36m<module>\u001b[1;34m\u001b[0m\n\u001b[1;32m----> 1\u001b[1;33m \u001b[1;32mimport\u001b[0m \u001b[0mkeras\u001b[0m\u001b[1;33m\u001b[0m\u001b[1;33m\u001b[0m\u001b[0m\n\u001b[0m",
      "\u001b[1;32mc:\\users\\alind\\appdata\\local\\programs\\python\\python39\\lib\\site-packages\\keras\\__init__.py\u001b[0m in \u001b[0;36m<module>\u001b[1;34m\u001b[0m\n\u001b[0;32m      3\u001b[0m     \u001b[1;32mfrom\u001b[0m \u001b[0mtensorflow\u001b[0m\u001b[1;33m.\u001b[0m\u001b[0mkeras\u001b[0m\u001b[1;33m.\u001b[0m\u001b[0mlayers\u001b[0m\u001b[1;33m.\u001b[0m\u001b[0mexperimental\u001b[0m\u001b[1;33m.\u001b[0m\u001b[0mpreprocessing\u001b[0m \u001b[1;32mimport\u001b[0m \u001b[0mRandomRotation\u001b[0m\u001b[1;33m\u001b[0m\u001b[1;33m\u001b[0m\u001b[0m\n\u001b[0;32m      4\u001b[0m \u001b[1;32mexcept\u001b[0m \u001b[0mImportError\u001b[0m\u001b[1;33m:\u001b[0m\u001b[1;33m\u001b[0m\u001b[1;33m\u001b[0m\u001b[0m\n\u001b[1;32m----> 5\u001b[1;33m     raise ImportError(\n\u001b[0m\u001b[0;32m      6\u001b[0m         \u001b[1;34m'Keras requires TensorFlow 2.2 or higher. '\u001b[0m\u001b[1;33m\u001b[0m\u001b[1;33m\u001b[0m\u001b[0m\n\u001b[0;32m      7\u001b[0m         'Install TensorFlow via `pip install tensorflow`')\n",
      "\u001b[1;31mImportError\u001b[0m: Keras requires TensorFlow 2.2 or higher. Install TensorFlow via `pip install tensorflow`"
     ]
    }
   ],
   "source": [
    "import keras"
   ]
  },
  {
   "cell_type": "code",
   "execution_count": 1,
   "id": "ethical-rough",
   "metadata": {},
   "outputs": [],
   "source": [
    "vid_14 = 'data-clean/data-clean/refrigerator/screen_interaction/5/screen_interaction_7_1614113152_1.mp4'"
   ]
  },
  {
   "cell_type": "code",
   "execution_count": 2,
   "id": "foster-insulation",
   "metadata": {},
   "outputs": [],
   "source": [
    "# 7/5 \n",
    "import cv2\n",
    "import os\n",
    "\n",
    "def trim(in_file, start_time, end_time, out_file=None):\n",
    "    \"\"\"\n",
    "    Parameters\n",
    "    ----------\n",
    "    in_file: input video\n",
    "    start_time:\n",
    "    end_time\n",
    "    out_file\n",
    "    Returns\n",
    "    -------\n",
    "    \"\"\"\n",
    "    from moviepy.video.io.ffmpeg_tools import ffmpeg_extract_subclip\n",
    "    if not out_file:\n",
    "        out_file = os.path.splitext(in_file)[0] + '-trim.mp4'\n",
    "\n",
    "    out_dir = os.path.abspath(os.path.dirname(out_file))\n",
    "    if not os.path.exists(out_dir):\n",
    "        os.makedirs(out_dir, exist_ok=False)\n",
    "    # print(out_dir, in_file, out_file)\n",
    "    ffmpeg_extract_subclip(in_file, start_time, end_time, targetname=out_file)"
   ]
  },
  {
   "cell_type": "code",
   "execution_count": 7,
   "id": "administrative-eugene",
   "metadata": {},
   "outputs": [
    {
     "ename": "ModuleNotFoundError",
     "evalue": "No module named 'moviepy'",
     "output_type": "error",
     "traceback": [
      "\u001b[1;31m---------------------------------------------------------------------------\u001b[0m",
      "\u001b[1;31mModuleNotFoundError\u001b[0m                       Traceback (most recent call last)",
      "\u001b[1;32m<ipython-input-7-653767589598>\u001b[0m in \u001b[0;36m<module>\u001b[1;34m\u001b[0m\n\u001b[1;32m----> 1\u001b[1;33m \u001b[1;32mimport\u001b[0m \u001b[0mmoviepy\u001b[0m\u001b[1;33m\u001b[0m\u001b[1;33m\u001b[0m\u001b[0m\n\u001b[0m",
      "\u001b[1;31mModuleNotFoundError\u001b[0m: No module named 'moviepy'"
     ]
    }
   ],
   "source": [
    "import moviepy"
   ]
  },
  {
   "cell_type": "code",
   "execution_count": 4,
   "id": "republican-custom",
   "metadata": {},
   "outputs": [
    {
     "ename": "ModuleNotFoundError",
     "evalue": "No module named 'moviepy'",
     "output_type": "error",
     "traceback": [
      "\u001b[1;31m---------------------------------------------------------------------------\u001b[0m",
      "\u001b[1;31mModuleNotFoundError\u001b[0m                       Traceback (most recent call last)",
      "\u001b[1;32m<ipython-input-4-7486d0c44a53>\u001b[0m in \u001b[0;36m<module>\u001b[1;34m\u001b[0m\n\u001b[1;32m----> 1\u001b[1;33m \u001b[0mtrim\u001b[0m\u001b[1;33m(\u001b[0m\u001b[0mvid_14\u001b[0m\u001b[1;33m,\u001b[0m \u001b[1;36m24\u001b[0m\u001b[1;33m,\u001b[0m \u001b[1;36m46\u001b[0m\u001b[1;33m)\u001b[0m\u001b[1;33m\u001b[0m\u001b[1;33m\u001b[0m\u001b[0m\n\u001b[0m",
      "\u001b[1;32m<ipython-input-3-4293bf885463>\u001b[0m in \u001b[0;36mtrim\u001b[1;34m(in_file, start_time, end_time, out_file)\u001b[0m\n\u001b[0;32m     14\u001b[0m     \u001b[1;33m-\u001b[0m\u001b[1;33m-\u001b[0m\u001b[1;33m-\u001b[0m\u001b[1;33m-\u001b[0m\u001b[1;33m-\u001b[0m\u001b[1;33m-\u001b[0m\u001b[1;33m-\u001b[0m\u001b[1;33m\u001b[0m\u001b[1;33m\u001b[0m\u001b[0m\n\u001b[0;32m     15\u001b[0m     \"\"\"\n\u001b[1;32m---> 16\u001b[1;33m     \u001b[1;32mfrom\u001b[0m \u001b[0mmoviepy\u001b[0m\u001b[1;33m.\u001b[0m\u001b[0mvideo\u001b[0m\u001b[1;33m.\u001b[0m\u001b[0mio\u001b[0m\u001b[1;33m.\u001b[0m\u001b[0mffmpeg_tools\u001b[0m \u001b[1;32mimport\u001b[0m \u001b[0mffmpeg_extract_subclip\u001b[0m\u001b[1;33m\u001b[0m\u001b[1;33m\u001b[0m\u001b[0m\n\u001b[0m\u001b[0;32m     17\u001b[0m     \u001b[1;32mif\u001b[0m \u001b[1;32mnot\u001b[0m \u001b[0mout_file\u001b[0m\u001b[1;33m:\u001b[0m\u001b[1;33m\u001b[0m\u001b[1;33m\u001b[0m\u001b[0m\n\u001b[0;32m     18\u001b[0m         \u001b[0mout_file\u001b[0m \u001b[1;33m=\u001b[0m \u001b[0mos\u001b[0m\u001b[1;33m.\u001b[0m\u001b[0mpath\u001b[0m\u001b[1;33m.\u001b[0m\u001b[0msplitext\u001b[0m\u001b[1;33m(\u001b[0m\u001b[0min_file\u001b[0m\u001b[1;33m)\u001b[0m\u001b[1;33m[\u001b[0m\u001b[1;36m0\u001b[0m\u001b[1;33m]\u001b[0m \u001b[1;33m+\u001b[0m \u001b[1;34m'-trim.mp4'\u001b[0m\u001b[1;33m\u001b[0m\u001b[1;33m\u001b[0m\u001b[0m\n",
      "\u001b[1;31mModuleNotFoundError\u001b[0m: No module named 'moviepy'"
     ]
    }
   ],
   "source": [
    "trim(vid_14, 24, 46)"
   ]
  },
  {
   "cell_type": "code",
   "execution_count": 2,
   "id": "virtual-effects",
   "metadata": {},
   "outputs": [
    {
     "ename": "ModuleNotFoundError",
     "evalue": "No module named 'skimage'",
     "output_type": "error",
     "traceback": [
      "\u001b[1;31m---------------------------------------------------------------------------\u001b[0m",
      "\u001b[1;31mModuleNotFoundError\u001b[0m                       Traceback (most recent call last)",
      "\u001b[1;32m<ipython-input-2-bc7f6b1c6844>\u001b[0m in \u001b[0;36m<module>\u001b[1;34m\u001b[0m\n\u001b[0;32m      9\u001b[0m \u001b[1;32mimport\u001b[0m \u001b[0mnumpy\u001b[0m \u001b[1;32mas\u001b[0m \u001b[0mnp\u001b[0m    \u001b[1;31m# for mathematical operations\u001b[0m\u001b[1;33m\u001b[0m\u001b[1;33m\u001b[0m\u001b[0m\n\u001b[0;32m     10\u001b[0m \u001b[1;32mfrom\u001b[0m \u001b[0mkeras\u001b[0m\u001b[1;33m.\u001b[0m\u001b[0mutils\u001b[0m \u001b[1;32mimport\u001b[0m \u001b[0mnp_utils\u001b[0m\u001b[1;33m\u001b[0m\u001b[1;33m\u001b[0m\u001b[0m\n\u001b[1;32m---> 11\u001b[1;33m \u001b[1;32mfrom\u001b[0m \u001b[0mskimage\u001b[0m\u001b[1;33m.\u001b[0m\u001b[0mtransform\u001b[0m \u001b[1;32mimport\u001b[0m \u001b[0mresize\u001b[0m   \u001b[1;31m# for resizing images\u001b[0m\u001b[1;33m\u001b[0m\u001b[1;33m\u001b[0m\u001b[0m\n\u001b[0m",
      "\u001b[1;31mModuleNotFoundError\u001b[0m: No module named 'skimage'"
     ]
    }
   ],
   "source": [
    "# https://www.analyticsvidhya.com/blog/2018/09/deep-learning-video-classification-python/\n",
    "\n",
    "import cv2     # for capturing videos\n",
    "import math   # for mathematical operations\n",
    "import matplotlib.pyplot as plt    # for plotting the images\n",
    "%matplotlib inline\n",
    "import pandas as pd\n",
    "from keras.preprocessing import image   # for preprocessing the images\n",
    "import numpy as np    # for mathematical operations\n",
    "from keras.utils import np_utils\n",
    "from skimage.transform import resize   # for resizing images"
   ]
  },
  {
   "cell_type": "code",
   "execution_count": null,
   "id": "coastal-hacker",
   "metadata": {},
   "outputs": [],
   "source": [
    "\n",
    "def load_data(in_file):\n",
    "    with open(in_file, 'rb') as f:\n",
    "    data = pickle.load(f)\n",
    "    return data\n",
    "\n",
    "X = []\n",
    "y = []\n",
    "for ft_files in glob.glob(feature_path + '*/*/*/pcap-netml/STATS/*.dat'):\n",
    "X_, y_ = load_data(ft_files)\n",
    "X.append(X_)\n",
    "y.append(y_)\n"
   ]
  },
  {
   "cell_type": "code",
   "execution_count": null,
   "id": "consecutive-workstation",
   "metadata": {},
   "outputs": [],
   "source": [
    "act_label = {\"frg_no_interaction\": 0,\n",
    "             \"frg_open_close_fridge\": 1,\n",
    "             \"frg_put_back_item\": 2,\n",
    "             \"frg_screen_interaction\": 3,\n",
    "             \"frg_take_out_item\": 4,\n",
    "             \"alx_no_interaction\": 5,\n",
    "             \"alx_ask_weather\": 6,\n",
    "             \"alx_play_music\": 7,\n",
    "             \"nstc_no_interaction\": 8,\n",
    "             \"nstc_ask_time\": 9,\n",
    "             \"nstc_trigger_motion_detection\": 10}"
   ]
  },
  {
   "cell_type": "markdown",
   "id": "universal-movement",
   "metadata": {},
   "source": [
    "steps:\n",
    "\n",
    "    1. install <= python3.7\n",
    "    \n",
    "    2. install tensorflow < 2.0 (1.5)\n",
    "    \n",
    "    3. download model: vgg_16.cpkt\n",
    "    \n",
    "    4. install tqdm, future, opencv-python\n",
    "    \n",
    "    5. create \"video.txt\" file\n",
    "    \n",
    "    6. create \"out\" directory\n",
    "    \n",
    "    6. python3.7 feature_extraction.py --video_list video.txt  --network vgg --framework tensorflow --output_path out/ --tf_model ./slim/vgg_16.ckpt"
   ]
  },
  {
   "cell_type": "code",
   "execution_count": 2,
   "id": "proud-library",
   "metadata": {},
   "outputs": [],
   "source": [
    "# https://docs.opencv.org/3.4/d1/dc5/tutorial_background_subtraction.html\n",
    "import cv2 as cv\n",
    "# bg subtractor object will be used to generate the foreground mask\n",
    "#if args.algo == 'MOG2':\n",
    "backSub = cv.createBackgroundSubtractorMOG2()\n",
    "#else:\n",
    "#backSub = cv.createBackgroundSubtractorKNN()"
   ]
  },
  {
   "cell_type": "code",
   "execution_count": 3,
   "id": "deadly-noise",
   "metadata": {},
   "outputs": [],
   "source": [
    "# read input video or video seq\n",
    "args_input = 'data-clean/data-clean/refrigerator/open_close_fridge/1/open_close_fridge_10_1615393352_1.mp4'\n",
    "\n",
    "capture = cv.VideoCapture(cv.samples.findFileOrKeep(args_input))\n",
    "if not capture.isOpened():\n",
    "    print('Unable to open: ' + args_input)\n",
    "    exit(0)\n",
    "    "
   ]
  },
  {
   "cell_type": "code",
   "execution_count": 3,
   "id": "focused-impossible",
   "metadata": {},
   "outputs": [
    {
     "ename": "KeyboardInterrupt",
     "evalue": "",
     "output_type": "error",
     "traceback": [
      "\u001b[1;31m---------------------------------------------------------------------------\u001b[0m",
      "\u001b[1;31mKeyboardInterrupt\u001b[0m                         Traceback (most recent call last)",
      "\u001b[1;32m<ipython-input-3-d9aec066e89d>\u001b[0m in \u001b[0;36m<module>\u001b[1;34m\u001b[0m\n\u001b[0;32m      4\u001b[0m         \u001b[1;32mbreak\u001b[0m\u001b[1;33m\u001b[0m\u001b[1;33m\u001b[0m\u001b[0m\n\u001b[0;32m      5\u001b[0m \u001b[1;33m\u001b[0m\u001b[0m\n\u001b[1;32m----> 6\u001b[1;33m     \u001b[0mfgMask\u001b[0m \u001b[1;33m=\u001b[0m \u001b[0mbackSub\u001b[0m\u001b[1;33m.\u001b[0m\u001b[0mapply\u001b[0m\u001b[1;33m(\u001b[0m\u001b[0mframe\u001b[0m\u001b[1;33m)\u001b[0m\u001b[1;33m\u001b[0m\u001b[1;33m\u001b[0m\u001b[0m\n\u001b[0m\u001b[0;32m      7\u001b[0m \u001b[1;33m\u001b[0m\u001b[0m\n\u001b[0;32m      8\u001b[0m \u001b[1;33m\u001b[0m\u001b[0m\n",
      "\u001b[1;31mKeyboardInterrupt\u001b[0m: "
     ]
    }
   ],
   "source": [
    "\"\"\"while True:\n",
    "    ret, frame = capture.read()\n",
    "    if frame is None:\n",
    "        break\n",
    "    \n",
    "    fgMask = backSub.apply(frame)\n",
    "    \n",
    "    \n",
    "    cv.rectangle(frame, (10, 2), (100,20), (255,255,255), -1)\n",
    "    cv.putText(frame, str(capture.get(cv.CAP_PROP_POS_FRAMES)), (15, 15),\n",
    "               cv.FONT_HERSHEY_SIMPLEX, 0.5 , (0,0,0))\n",
    "    \n",
    "    \n",
    "    cv.imshow('Frame', frame)\n",
    "    cv.imshow('FG Mask', fgMask)\n",
    "    \n",
    "    keyboard = cv.waitKey(30)\n",
    "    if keyboard == 'q' or keyboard == 27:\n",
    "        break\"\"\""
   ]
  },
  {
   "cell_type": "code",
   "execution_count": 4,
   "id": "liable-creator",
   "metadata": {},
   "outputs": [],
   "source": [
    "import cv2"
   ]
  },
  {
   "cell_type": "code",
   "execution_count": 5,
   "id": "human-carry",
   "metadata": {},
   "outputs": [],
   "source": [
    "import matplotlib.pyplot as plt"
   ]
  },
  {
   "cell_type": "code",
   "execution_count": 6,
   "id": "violent-sleeve",
   "metadata": {},
   "outputs": [],
   "source": [
    "ret, frame = capture.read()\n",
    "if frame is None:\n",
    "    print(\"None\")\n",
    "\n",
    "fgMask = backSub.apply(frame)"
   ]
  },
  {
   "cell_type": "code",
   "execution_count": 7,
   "id": "paperback-binary",
   "metadata": {},
   "outputs": [
    {
     "data": {
      "image/png": "[encoded data removed]",
      "text/plain": [
       "<Figure size 432x288 with 1 Axes>"
      ]
     },
     "metadata": {},
     "output_type": "display_data"
    }
   ],
   "source": [
    "cv.rectangle(frame, (10, 2), (100,20), (255,255,255), -1)\n",
    "cv.putText(frame, str(capture.get(cv.CAP_PROP_POS_FRAMES)), (15, 15),\n",
    "           cv.FONT_HERSHEY_SIMPLEX, 0.5 , (0,0,0))\n",
    "\n",
    "\n",
    "cv.imshow('Frame', frame)\n",
    "cv.imshow('FG Mask', fgMask)\n",
    "#cv2.waitkey(0)\n",
    "#cv2.destroyAllWindows()\n",
    "\n",
    "img_frame = cv2.cvtColor(frame, cv2.COLOR_BGR2RGB) #Converts from one colour space to the other\n",
    "img_mask = cv2.cvtColor(fgMask, cv2.COLOR_BGR2RGB)\n",
    "\n",
    "plt.imshow(img_frame)\n",
    "plt.imshow(img_mask)\n",
    "plt.xticks([]), plt.yticks([])  # Hides the graph ticks and x / y axis\n",
    "plt.show()"
   ]
  },
  {
   "cell_type": "code",
   "execution_count": 8,
   "id": "closing-shade",
   "metadata": {},
   "outputs": [],
   "source": [
    "%matplotlib inline"
   ]
  },
  {
   "cell_type": "code",
   "execution_count": 11,
   "id": "assigned-howard",
   "metadata": {},
   "outputs": [],
   "source": [
    "%matplotlib notebook"
   ]
  },
  {
   "cell_type": "code",
   "execution_count": 6,
   "id": "quality-compound",
   "metadata": {},
   "outputs": [],
   "source": []
  },
  {
   "cell_type": "code",
   "execution_count": 7,
   "id": "saved-therapy",
   "metadata": {},
   "outputs": [],
   "source": []
  },
  {
   "cell_type": "markdown",
   "id": "opening-merchant",
   "metadata": {},
   "source": [
    "Our models takes the feature vectors generated by the first stage two-stream ConvNet as input for training\n",
    "\n",
    "Train with Temporal-ConvNet\n",
    "To start the training process, go to ./Temporal-ConvNet and simply execute:\n",
    "\n",
    "$ th run.lua -o <output_folder_name> --dataset <dataset-name>"
   ]
  },
  {
   "cell_type": "code",
   "execution_count": null,
   "id": "qualified-ordinance",
   "metadata": {},
   "outputs": [],
   "source": []
  },
  {
   "cell_type": "markdown",
   "id": "graduate-cheat",
   "metadata": {},
   "source": [
    "Pil : mirror image, rotate image\n",
    "\n",
    "https://pythonexamples.org/python-pillow-flip-image-vertical-horizontal/#:~:text=To%20flip%20an%20Image%20vertically,on%20the%20PIL%20Image%20object.\n",
    "\n",
    "\n",
    "method – Possible values of method are\n",
    "\n",
    "PIL.Image.FLIP_LEFT_RIGHT\n",
    "\n",
    "PIL.Image.FLIP_TOP_BOTTOM\n",
    "\n",
    "PIL.Image.ROTATE_90\n",
    "\n",
    "PIL.Image.ROTATE_180\n",
    "\n",
    "PIL.Image.ROTATE_270\n",
    "\n",
    "PIL.Image.TRANSPOSE or PIL.Image.TRANSVERSE.\n"
   ]
  },
  {
   "cell_type": "code",
   "execution_count": 1,
   "id": "understanding-enzyme",
   "metadata": {},
   "outputs": [],
   "source": [
    "import PIL\n",
    "from PIL import Image"
   ]
  },
  {
   "cell_type": "code",
   "execution_count": 11,
   "id": "brutal-mirror",
   "metadata": {},
   "outputs": [],
   "source": [
    "im = Image.fromarray(img_frame)"
   ]
  },
  {
   "cell_type": "code",
   "execution_count": 12,
   "id": "residential-tolerance",
   "metadata": {},
   "outputs": [],
   "source": [
    "#read the image\n",
    "#im = Image.open(\"sample-image.png\")\n",
    "\n",
    "#flip image\n",
    "out = im.transpose(PIL.Image.FLIP_LEFT_RIGHT)"
   ]
  },
  {
   "cell_type": "code",
   "execution_count": 16,
   "id": "ongoing-support",
   "metadata": {},
   "outputs": [],
   "source": [
    "out2 = im.transpose(PIL.Image.FLIP_TOP_BOTTOM)"
   ]
  },
  {
   "cell_type": "code",
   "execution_count": 13,
   "id": "future-biodiversity",
   "metadata": {},
   "outputs": [],
   "source": [
    "out.show()"
   ]
  },
  {
   "cell_type": "code",
   "execution_count": 14,
   "id": "constant-howard",
   "metadata": {},
   "outputs": [],
   "source": [
    "out.save('transpose_ex.png')"
   ]
  },
  {
   "cell_type": "code",
   "execution_count": 17,
   "id": "romantic-waterproof",
   "metadata": {},
   "outputs": [],
   "source": [
    "out2.save('transpose_ex2.png')"
   ]
  },
  {
   "cell_type": "code",
   "execution_count": null,
   "id": "frequent-massage",
   "metadata": {},
   "outputs": [],
   "source": []
  }
 ],
 "metadata": {
  "kernelspec": {
   "display_name": "Python 3",
   "language": "python",
   "name": "python3"
  },
  "language_info": {
   "codemirror_mode": {
    "name": "ipython",
    "version": 3
   },
   "file_extension": ".py",
   "mimetype": "text/x-python",
   "name": "python",
   "nbconvert_exporter": "python",
   "pygments_lexer": "ipython3",
   "version": "3.9.1"
  }
 },
 "nbformat": 4,
 "nbformat_minor": 5
}
