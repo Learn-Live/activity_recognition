{
 "cells": [
  {
   "cell_type": "code",
   "execution_count": 3,
   "metadata": {},
   "outputs": [],
   "source": [
    "import numpy as np\n",
    "import os\n",
    "import matplotlib.pyplot as plt "
   ]
  },
  {
   "cell_type": "code",
   "execution_count": 26,
   "metadata": {},
   "outputs": [],
   "source": [
    "# load the current video features\n",
    "base = 'output_2'\n",
    "output_dir = './output_mp4'\n",
    "\n",
    "\n",
    "for f in os.listdir(base):\n",
    "    if f.endswith('.npy'):\n",
    "        f_2 = os.path.join(base, f)\n",
    "        arr = np.load(f_2)\n",
    "        arr2 = np.zeros((arr.shape[1],))\n",
    "        for i in range(arr.shape[0]):\n",
    "            arr2 += arr[i] - arr[0]\n",
    "            \n",
    "        arr2 = np.clip(arr2, -2, 2)\n",
    "        p_2 = os.path.join(output_dir, f)\n",
    "        \n",
    "        np.save(p_2, arr2)\n"
   ]
  },
  {
   "cell_type": "code",
   "execution_count": null,
   "metadata": {},
   "outputs": [],
   "source": []
  },
  {
   "cell_type": "code",
   "execution_count": null,
   "metadata": {},
   "outputs": [],
   "source": []
  },
  {
   "cell_type": "code",
   "execution_count": null,
   "metadata": {},
   "outputs": [],
   "source": []
  },
  {
   "cell_type": "code",
   "execution_count": null,
   "metadata": {},
   "outputs": [],
   "source": []
  }
 ],
 "metadata": {
  "kernelspec": {
   "display_name": "Python 3",
   "language": "python",
   "name": "python3"
  },
  "language_info": {
   "codemirror_mode": {
    "name": "ipython",
    "version": 3
   },
   "file_extension": ".py",
   "mimetype": "text/x-python",
   "name": "python",
   "nbconvert_exporter": "python",
   "pygments_lexer": "ipython3",
   "version": "3.8.5"
  }
 },
 "nbformat": 4,
 "nbformat_minor": 4
}
