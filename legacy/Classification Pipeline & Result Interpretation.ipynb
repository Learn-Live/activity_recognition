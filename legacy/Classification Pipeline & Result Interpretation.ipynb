{
 "cells": [
  {
   "cell_type": "markdown",
   "metadata": {},
   "source": [
    "# Classification pipeline"
   ]
  },
  {
   "cell_type": "code",
   "execution_count": 1,
   "metadata": {
    "ExecuteTime": {
     "end_time": "2020-09-01T02:25:49.532450Z",
     "start_time": "2020-09-01T02:25:49.529890Z"
    }
   },
   "outputs": [],
   "source": [
    "# Relative path, no need to change\n",
    "script_path = '../script/'\n",
    "\n",
    "# Absolute path, change it according to data locations\n",
    "data_path = '../../data/'\n",
    "feature_path = '../../features/'"
   ]
  },
  {
   "cell_type": "code",
   "execution_count": 4,
   "metadata": {},
   "outputs": [],
   "source": [
    "# Get starting frame timestamps for all the clips\n",
    "import glob\n",
    "import pickle\n",
    "import matplotlib.pyplot as plt\n",
    "import numpy as np\n",
    "import pandas as pd\n",
    "\n",
    "import sklearn as sk\n",
    "from sklearn.model_selection import train_test_split\n",
    "from sklearn.linear_model import LogisticRegression\n",
    "from sklearn import svm\n",
    "from sklearn.ensemble import RandomForestClassifier\n",
    "from sklearn.neural_network import MLPClassifier\n",
    "from sklearn.metrics import classification_report\n",
    "from sklearn import metrics\n",
    "import math"
   ]
  },
  {
   "cell_type": "markdown",
   "metadata": {},
   "source": [
    "## Basic Supervised ML (not finished yet)"
   ]
  },
  {
   "cell_type": "code",
   "execution_count": null,
   "metadata": {},
   "outputs": [],
   "source": [
    "def nan2zero(vec):\n",
    "    return [0 if math.isnan(k) else k for k in vec]\n",
    "\n",
    "def get_auc(test, pred):\n",
    "#     print(test, pred)\n",
    "    fpr, tpr, thresholds = metrics.roc_curve(test, pred)\n",
    "#     print(fpr, tpr)\n",
    "    return str(metrics.auc(fpr, tpr))\n",
    "\n",
    "def evaluate_column(column):\n",
    "    X = []\n",
    "    y = []\n",
    "    result = column + ','\n",
    "#     print('=====================================')\n",
    "#     print(column + ' results')\n",
    "#     print('=====================================')\n",
    "    for door in glob.glob('fridge_door*.pcap.csv'):\n",
    "        data = pd.read_csv(door)\n",
    "        X.append(nan2zero(vectorize(data, column)))\n",
    "        y.append(1)\n",
    "\n",
    "    for idle in glob.glob('fridge_idle*.pcap.csv'):\n",
    "        data = pd.read_csv(idle)\n",
    "        X.append(nan2zero(vectorize(data, column)))\n",
    "        y.append(-1)\n",
    "\n",
    "    X_train, X_test, y_train, y_test = train_test_split(X, y, test_size=0.33)\n",
    "\n",
    "    LR = LogisticRegression(random_state=0, solver='lbfgs', multi_class='multinomial').fit(X_train, y_train)\n",
    "    y_pred = LR.predict(X_test)\n",
    "#     print('Logistic Regression:\\n')\n",
    "#     print(classification_report(y_test, y_pred))\n",
    "    result += get_auc(y_test, y_pred) + ','\n",
    "\n",
    "    SVM = svm.SVC(decision_function_shape=\"ovo\").fit(X_train, y_train)\n",
    "    y_pred = SVM.predict(X_test)\n",
    "#     print('SVM:\\n')\n",
    "#     print(classification_report(y_test, y_pred))\n",
    "    result += get_auc(y_test, y_pred) + ','\n",
    "\n",
    "    RF = RandomForestClassifier(n_estimators=1000, max_depth=10, random_state=0).fit(X_train, y_train)\n",
    "    y_pred = RF.predict(X_test)\n",
    "#     print('Random Forest:\\n')\n",
    "#     print(classification_report(y_test, y_pred))\n",
    "    result += get_auc(y_test, y_pred) + ','\n",
    "\n",
    "    NN = MLPClassifier(solver='lbfgs', alpha=1e-5, hidden_layer_sizes=(150, 10), random_state=1).fit(X_train, y_train)\n",
    "    y_pred = NN.predict(X_test)\n",
    "#     print('Neural Network:\\n')\n",
    "#     print(classification_report(y_test, y_pred))\n",
    "    result += get_auc(y_test, y_pred)\n",
    "    \n",
    "    print(result)\n",
    "    return result"
   ]
  },
  {
   "cell_type": "code",
   "execution_count": 51,
   "metadata": {},
   "outputs": [
    {
     "name": "stdout",
     "output_type": "stream",
     "text": [
      "0\n",
      "frame.time_delta,0.75,0.5,0.5,0.25\n",
      "frame.time_relative,1.0,0.5,0.5,0.625\n",
      "ip.version,0.75,1.0,0.5,0.5\n",
      "ip.hdr_len,0.5,0.5,0.5,0.5\n",
      "ip.len,0.6666666666666666,0.5,0.5,0.33333333333333337\n",
      "ip.flags.df,1.0,1.0,0.5,0.625\n",
      "ip.flags.mf,0.5,0.5,0.5,0.5\n",
      "ip.flags.rb,0.5,0.5,0.5,0.5\n",
      "ip.flags.sf,0.5,0.5,0.5,0.5\n",
      "ip.dsfield.dscp,0.5,0.5,0.5,0.5\n",
      "ip.dsfield.ecn,0.5,0.5,0.5,0.5\n",
      "ip.tos,0.5,0.5,0.5,0.5\n",
      "ip.ttl,0.5,0.5,0.5,0.75\n",
      "ip.proto,0.5,0.4,0.5,0.5\n"
     ]
    },
    {
     "name": "stderr",
     "output_type": "stream",
     "text": [
      "/usr/local/lib/python3.7/site-packages/sklearn/metrics/ranking.py:659: UndefinedMetricWarning: No positive samples in y_true, true positive value should be meaningless\n",
      "  UndefinedMetricWarning)\n",
      "/usr/local/lib/python3.7/site-packages/sklearn/metrics/ranking.py:659: UndefinedMetricWarning: No positive samples in y_true, true positive value should be meaningless\n",
      "  UndefinedMetricWarning)\n",
      "/usr/local/lib/python3.7/site-packages/sklearn/metrics/ranking.py:659: UndefinedMetricWarning: No positive samples in y_true, true positive value should be meaningless\n",
      "  UndefinedMetricWarning)\n",
      "/usr/local/lib/python3.7/site-packages/sklearn/metrics/ranking.py:659: UndefinedMetricWarning: No positive samples in y_true, true positive value should be meaningless\n",
      "  UndefinedMetricWarning)\n"
     ]
    },
    {
     "name": "stdout",
     "output_type": "stream",
     "text": [
      "udp.srcport,nan,nan,nan,nan\n",
      "udp.dstport,0.5,0.5,0.5,0.5\n",
      "udp.length,0.5,0.625,0.5,0.625\n"
     ]
    },
    {
     "name": "stderr",
     "output_type": "stream",
     "text": [
      "/usr/local/lib/python3.7/site-packages/sklearn/metrics/ranking.py:659: UndefinedMetricWarning: No positive samples in y_true, true positive value should be meaningless\n",
      "  UndefinedMetricWarning)\n",
      "/usr/local/lib/python3.7/site-packages/sklearn/metrics/ranking.py:659: UndefinedMetricWarning: No positive samples in y_true, true positive value should be meaningless\n",
      "  UndefinedMetricWarning)\n",
      "/usr/local/lib/python3.7/site-packages/sklearn/metrics/ranking.py:659: UndefinedMetricWarning: No positive samples in y_true, true positive value should be meaningless\n",
      "  UndefinedMetricWarning)\n",
      "/usr/local/lib/python3.7/site-packages/sklearn/metrics/ranking.py:659: UndefinedMetricWarning: No positive samples in y_true, true positive value should be meaningless\n",
      "  UndefinedMetricWarning)\n"
     ]
    },
    {
     "name": "stdout",
     "output_type": "stream",
     "text": [
      "tcp.flags.cwr,nan,nan,nan,nan\n",
      "tcp.flags.ecn,0.5,0.5,0.5,0.5\n"
     ]
    },
    {
     "name": "stderr",
     "output_type": "stream",
     "text": [
      "/usr/local/lib/python3.7/site-packages/sklearn/metrics/ranking.py:659: UndefinedMetricWarning: No positive samples in y_true, true positive value should be meaningless\n",
      "  UndefinedMetricWarning)\n",
      "/usr/local/lib/python3.7/site-packages/sklearn/metrics/ranking.py:659: UndefinedMetricWarning: No positive samples in y_true, true positive value should be meaningless\n",
      "  UndefinedMetricWarning)\n",
      "/usr/local/lib/python3.7/site-packages/sklearn/metrics/ranking.py:659: UndefinedMetricWarning: No positive samples in y_true, true positive value should be meaningless\n",
      "  UndefinedMetricWarning)\n",
      "/usr/local/lib/python3.7/site-packages/sklearn/metrics/ranking.py:659: UndefinedMetricWarning: No positive samples in y_true, true positive value should be meaningless\n",
      "  UndefinedMetricWarning)\n"
     ]
    },
    {
     "name": "stdout",
     "output_type": "stream",
     "text": [
      "tcp.flags.urg,nan,nan,nan,nan\n",
      "tcp.flags.ack,0.5,0.75,0.5,0.5\n",
      "tcp.flags.push,0.5,0.8333333333333333,0.5,0.5\n",
      "tcp.flags.reset,0.5,0.5,0.5,0.5\n",
      "tcp.flags.syn,0.5,0.5,0.5,0.6666666666666666\n",
      "tcp.flags.fin,0.5,0.5,0.5,0.6666666666666666\n",
      "tcp.flags.res,0.5,0.5,0.5,0.5\n",
      "tcp.flags.ns,0.5,0.5,0.5,0.5\n",
      "tcp.len,0.5,0.5,0.5,0.16666666666666666\n",
      "1\n",
      "frame.time_delta,0.7,0.7,1.0,0.2\n",
      "frame.time_relative,0.5,0.7,0.5,0.2\n",
      "ip.version,0.5,0.5,0.5,0.5\n",
      "ip.hdr_len,0.6666666666666666,0.5,0.5,0.6666666666666666\n",
      "ip.len,0.6666666666666666,0.5,0.5,0.5\n",
      "ip.flags.df,1.0,1.0,0.5,0.9\n",
      "ip.flags.mf,0.5,0.5,0.5,0.5\n",
      "ip.flags.rb,0.5,0.5,0.5,0.5\n",
      "ip.flags.sf,0.5,0.5,0.5,0.5\n",
      "ip.dsfield.dscp,0.5,0.5,0.5,0.75\n",
      "ip.dsfield.ecn,0.5,0.5,0.5,0.5\n",
      "ip.tos,0.5,0.5,0.5,0.5\n",
      "ip.ttl,0.5,0.5,0.5,0.5\n",
      "ip.proto,1.0,0.8,0.5,1.0\n",
      "udp.srcport,0.5,0.5,0.5,0.125\n",
      "udp.dstport,0.625,0.625,0.5,0.25\n",
      "udp.length,0.4,0.6,0.5,0.7\n",
      "tcp.flags.cwr,0.5,0.5,0.5,0.5\n",
      "tcp.flags.ecn,0.5,0.5,0.5,0.5\n",
      "tcp.flags.urg,0.5,0.5,0.5,0.5\n",
      "tcp.flags.ack,0.625,0.875,0.5,0.625\n",
      "tcp.flags.push,1.0,1.0,0.5,0.9\n",
      "tcp.flags.reset,0.5,0.5,0.5,1.0\n",
      "tcp.flags.syn,0.5,0.5,0.5,0.5\n",
      "tcp.flags.fin,0.5,0.5,0.5,0.5\n",
      "tcp.flags.res,0.5,0.5,0.5,0.5\n",
      "tcp.flags.ns,0.5,0.5,0.5,0.5\n"
     ]
    },
    {
     "name": "stderr",
     "output_type": "stream",
     "text": [
      "/usr/local/lib/python3.7/site-packages/sklearn/linear_model/logistic.py:947: ConvergenceWarning: lbfgs failed to converge. Increase the number of iterations.\n",
      "  \"of iterations.\", ConvergenceWarning)\n"
     ]
    },
    {
     "name": "stdout",
     "output_type": "stream",
     "text": [
      "tcp.len,0.5,0.5,0.5,0.375\n",
      "2\n",
      "frame.time_delta,0.5,0.5,1.0,0.5\n",
      "frame.time_relative,0.5,0.5,0.5,0.5\n",
      "ip.version,0.6666666666666666,0.5,0.5,0.6666666666666666\n"
     ]
    },
    {
     "name": "stderr",
     "output_type": "stream",
     "text": [
      "/usr/local/lib/python3.7/site-packages/sklearn/metrics/ranking.py:659: UndefinedMetricWarning: No positive samples in y_true, true positive value should be meaningless\n",
      "  UndefinedMetricWarning)\n",
      "/usr/local/lib/python3.7/site-packages/sklearn/metrics/ranking.py:659: UndefinedMetricWarning: No positive samples in y_true, true positive value should be meaningless\n",
      "  UndefinedMetricWarning)\n",
      "/usr/local/lib/python3.7/site-packages/sklearn/metrics/ranking.py:659: UndefinedMetricWarning: No positive samples in y_true, true positive value should be meaningless\n",
      "  UndefinedMetricWarning)\n",
      "/usr/local/lib/python3.7/site-packages/sklearn/metrics/ranking.py:659: UndefinedMetricWarning: No positive samples in y_true, true positive value should be meaningless\n",
      "  UndefinedMetricWarning)\n"
     ]
    },
    {
     "name": "stdout",
     "output_type": "stream",
     "text": [
      "ip.hdr_len,nan,nan,nan,nan\n",
      "ip.len,0.5,0.5,0.5,0.5\n"
     ]
    },
    {
     "name": "stderr",
     "output_type": "stream",
     "text": [
      "/usr/local/lib/python3.7/site-packages/sklearn/metrics/ranking.py:659: UndefinedMetricWarning: No positive samples in y_true, true positive value should be meaningless\n",
      "  UndefinedMetricWarning)\n",
      "/usr/local/lib/python3.7/site-packages/sklearn/metrics/ranking.py:659: UndefinedMetricWarning: No positive samples in y_true, true positive value should be meaningless\n",
      "  UndefinedMetricWarning)\n",
      "/usr/local/lib/python3.7/site-packages/sklearn/metrics/ranking.py:659: UndefinedMetricWarning: No positive samples in y_true, true positive value should be meaningless\n",
      "  UndefinedMetricWarning)\n",
      "/usr/local/lib/python3.7/site-packages/sklearn/metrics/ranking.py:659: UndefinedMetricWarning: No positive samples in y_true, true positive value should be meaningless\n",
      "  UndefinedMetricWarning)\n"
     ]
    },
    {
     "name": "stdout",
     "output_type": "stream",
     "text": [
      "ip.flags.df,nan,nan,nan,nan\n",
      "ip.flags.mf,0.5,0.5,0.5,0.5\n",
      "ip.flags.rb,0.5,0.5,0.5,0.5\n",
      "ip.flags.sf,0.5,0.5,0.5,0.5\n",
      "ip.dsfield.dscp,0.5,0.5,0.5,0.6666666666666666\n",
      "ip.dsfield.ecn,0.5,0.5,0.5,0.5\n",
      "ip.tos,0.5,0.5,0.5,0.5\n",
      "ip.ttl,0.5,0.6,0.5,0.8\n",
      "ip.proto,0.6666666666666666,0.5,0.5,0.5\n",
      "udp.srcport,0.375,0.5,0.375,0.375\n",
      "udp.dstport,0.5,0.5,0.5,0.375\n",
      "udp.length,0.5,0.5,0.5,0.33333333333333337\n",
      "tcp.flags.cwr,0.5,0.5,0.5,0.5\n",
      "tcp.flags.ecn,0.5,0.5,0.5,0.5\n",
      "tcp.flags.urg,0.5,0.5,0.5,0.5\n",
      "tcp.flags.ack,0.75,0.75,0.5,0.5\n",
      "tcp.flags.push,0.5,0.8333333333333333,0.5,0.5\n",
      "tcp.flags.reset,0.5,0.5,0.5,1.0\n"
     ]
    },
    {
     "name": "stderr",
     "output_type": "stream",
     "text": [
      "/usr/local/lib/python3.7/site-packages/sklearn/metrics/ranking.py:659: UndefinedMetricWarning: No positive samples in y_true, true positive value should be meaningless\n",
      "  UndefinedMetricWarning)\n",
      "/usr/local/lib/python3.7/site-packages/sklearn/metrics/ranking.py:659: UndefinedMetricWarning: No positive samples in y_true, true positive value should be meaningless\n",
      "  UndefinedMetricWarning)\n",
      "/usr/local/lib/python3.7/site-packages/sklearn/metrics/ranking.py:659: UndefinedMetricWarning: No positive samples in y_true, true positive value should be meaningless\n",
      "  UndefinedMetricWarning)\n",
      "/usr/local/lib/python3.7/site-packages/sklearn/metrics/ranking.py:659: UndefinedMetricWarning: No positive samples in y_true, true positive value should be meaningless\n",
      "  UndefinedMetricWarning)\n"
     ]
    },
    {
     "name": "stdout",
     "output_type": "stream",
     "text": [
      "tcp.flags.syn,nan,nan,nan,nan\n",
      "tcp.flags.fin,0.5,0.5,0.5,0.8333333333333333\n"
     ]
    },
    {
     "name": "stderr",
     "output_type": "stream",
     "text": [
      "/usr/local/lib/python3.7/site-packages/sklearn/metrics/ranking.py:659: UndefinedMetricWarning: No positive samples in y_true, true positive value should be meaningless\n",
      "  UndefinedMetricWarning)\n",
      "/usr/local/lib/python3.7/site-packages/sklearn/metrics/ranking.py:659: UndefinedMetricWarning: No positive samples in y_true, true positive value should be meaningless\n",
      "  UndefinedMetricWarning)\n",
      "/usr/local/lib/python3.7/site-packages/sklearn/metrics/ranking.py:659: UndefinedMetricWarning: No positive samples in y_true, true positive value should be meaningless\n",
      "  UndefinedMetricWarning)\n",
      "/usr/local/lib/python3.7/site-packages/sklearn/metrics/ranking.py:659: UndefinedMetricWarning: No positive samples in y_true, true positive value should be meaningless\n",
      "  UndefinedMetricWarning)\n"
     ]
    },
    {
     "name": "stdout",
     "output_type": "stream",
     "text": [
      "tcp.flags.res,nan,nan,nan,nan\n",
      "tcp.flags.ns,0.5,0.5,0.5,0.5\n",
      "tcp.len,0.75,0.5,0.5,0.5\n",
      "3\n",
      "frame.time_delta,0.6666666666666666,0.5,0.5,0.6666666666666666\n",
      "frame.time_relative,0.5,0.5,0.5,0.375\n",
      "ip.version,0.8333333333333333,0.5,0.5,0.5\n",
      "ip.hdr_len,0.5,0.8,0.5,0.5\n",
      "ip.len,0.5,0.5,0.5,0.6666666666666667\n",
      "ip.flags.df,0.6666666666666666,0.8333333333333333,0.5,0.6666666666666666\n",
      "ip.flags.mf,0.5,0.5,0.5,0.5\n",
      "ip.flags.rb,0.5,0.5,0.5,0.5\n",
      "ip.flags.sf,0.5,0.5,0.5,0.5\n",
      "ip.dsfield.dscp,0.5,0.5,0.5,0.5\n",
      "ip.dsfield.ecn,0.5,0.5,0.5,0.5\n",
      "ip.tos,0.5,0.5,0.5,0.5\n",
      "ip.ttl,0.5,0.5,0.5,0.5\n",
      "ip.proto,0.5,0.5,0.5,0.6666666666666666\n",
      "udp.srcport,0.625,0.5,0.625,0.5\n",
      "udp.dstport,0.6,0.5,0.6,0.7\n",
      "udp.length,0.5,0.5,0.5,0.5\n",
      "tcp.flags.cwr,0.5,0.5,0.5,0.5\n",
      "tcp.flags.ecn,0.5,0.5,0.5,0.5\n",
      "tcp.flags.urg,0.5,0.5,0.5,0.5\n",
      "tcp.flags.ack,0.75,0.75,0.5,0.75\n",
      "tcp.flags.push,0.5,1.0,0.5,0.5\n",
      "tcp.flags.reset,0.5,0.5,0.5,1.0\n",
      "tcp.flags.syn,0.5,0.5,0.5,0.75\n",
      "tcp.flags.fin,0.5,0.5,0.5,0.5\n",
      "tcp.flags.res,0.5,0.5,0.5,0.5\n",
      "tcp.flags.ns,0.5,0.5,0.5,0.5\n",
      "tcp.len,0.5,0.5,0.5,0.375\n",
      "4\n",
      "frame.time_delta,0.5,0.5,0.5,0.5\n",
      "frame.time_relative,0.625,0.5,0.5,0.5\n",
      "ip.version,0.75,0.875,0.5,0.5\n",
      "ip.hdr_len,0.6666666666666666,0.5,0.5,0.5\n",
      "ip.len,1.0,0.5,0.5,0.5\n",
      "ip.flags.df,0.75,1.0,0.5,0.5\n",
      "ip.flags.mf,0.5,0.5,0.5,0.5\n",
      "ip.flags.rb,0.5,0.5,0.5,0.5\n",
      "ip.flags.sf,0.5,0.5,0.5,0.5\n",
      "ip.dsfield.dscp,0.5,0.5,0.5,0.5\n",
      "ip.dsfield.ecn,0.5,0.5,0.5,0.5\n",
      "ip.tos,0.5,0.5,0.5,0.5\n",
      "ip.ttl,0.75,0.5,0.5,0.375\n",
      "ip.proto,0.75,0.5,0.75,0.5\n",
      "udp.srcport,0.5,0.5,0.5,0.5\n",
      "udp.dstport,0.5,0.375,0.5,0.5\n",
      "udp.length,0.5,0.5,0.5,0.5\n",
      "tcp.flags.cwr,0.5,0.5,0.5,0.5\n",
      "tcp.flags.ecn,0.5,0.5,0.5,0.5\n",
      "tcp.flags.urg,0.5,0.5,0.5,0.5\n",
      "tcp.flags.ack,0.6666666666666666,0.8333333333333333,0.5,0.6666666666666666\n",
      "tcp.flags.push,0.5,0.6666666666666666,0.5,0.6666666666666666\n"
     ]
    },
    {
     "name": "stderr",
     "output_type": "stream",
     "text": [
      "/usr/local/lib/python3.7/site-packages/sklearn/metrics/ranking.py:659: UndefinedMetricWarning: No positive samples in y_true, true positive value should be meaningless\n",
      "  UndefinedMetricWarning)\n",
      "/usr/local/lib/python3.7/site-packages/sklearn/metrics/ranking.py:659: UndefinedMetricWarning: No positive samples in y_true, true positive value should be meaningless\n",
      "  UndefinedMetricWarning)\n",
      "/usr/local/lib/python3.7/site-packages/sklearn/metrics/ranking.py:659: UndefinedMetricWarning: No positive samples in y_true, true positive value should be meaningless\n",
      "  UndefinedMetricWarning)\n",
      "/usr/local/lib/python3.7/site-packages/sklearn/metrics/ranking.py:659: UndefinedMetricWarning: No positive samples in y_true, true positive value should be meaningless\n",
      "  UndefinedMetricWarning)\n"
     ]
    },
    {
     "name": "stdout",
     "output_type": "stream",
     "text": [
      "tcp.flags.reset,nan,nan,nan,nan\n",
      "tcp.flags.syn,0.6666666666666666,0.5,0.5,0.6666666666666666\n",
      "tcp.flags.fin,0.5,0.5,0.5,0.75\n",
      "tcp.flags.res,0.5,0.5,0.5,0.5\n",
      "tcp.flags.ns,0.5,0.5,0.5,0.5\n",
      "tcp.len,0.5,0.5,0.5,0.5\n",
      "5\n",
      "frame.time_delta,0.5,0.5,0.5,0.625\n",
      "frame.time_relative,0.5,0.5,0.5,0.33333333333333337\n",
      "ip.version,1.0,0.9,0.5,0.9\n",
      "ip.hdr_len,0.6666666666666666,0.5,0.5,0.6666666666666666\n",
      "ip.len,0.3,0.7,0.5,0.7\n",
      "ip.flags.df,0.75,1.0,0.5,1.0\n",
      "ip.flags.mf,0.5,0.5,0.5,0.5\n",
      "ip.flags.rb,0.5,0.5,0.5,0.5\n",
      "ip.flags.sf,0.5,0.5,0.5,0.5\n",
      "ip.dsfield.dscp,0.5,0.5,0.5,0.75\n",
      "ip.dsfield.ecn,0.5,0.5,0.5,0.5\n",
      "ip.tos,0.5,0.5,0.5,0.5\n",
      "ip.ttl,0.5,0.6,0.5,0.8\n",
      "ip.proto,0.625,0.5,0.5,0.5\n"
     ]
    },
    {
     "name": "stderr",
     "output_type": "stream",
     "text": [
      "/usr/local/lib/python3.7/site-packages/sklearn/metrics/ranking.py:659: UndefinedMetricWarning: No positive samples in y_true, true positive value should be meaningless\n",
      "  UndefinedMetricWarning)\n",
      "/usr/local/lib/python3.7/site-packages/sklearn/metrics/ranking.py:659: UndefinedMetricWarning: No positive samples in y_true, true positive value should be meaningless\n",
      "  UndefinedMetricWarning)\n",
      "/usr/local/lib/python3.7/site-packages/sklearn/metrics/ranking.py:659: UndefinedMetricWarning: No positive samples in y_true, true positive value should be meaningless\n",
      "  UndefinedMetricWarning)\n",
      "/usr/local/lib/python3.7/site-packages/sklearn/metrics/ranking.py:659: UndefinedMetricWarning: No positive samples in y_true, true positive value should be meaningless\n",
      "  UndefinedMetricWarning)\n"
     ]
    },
    {
     "name": "stdout",
     "output_type": "stream",
     "text": [
      "udp.srcport,nan,nan,nan,nan\n",
      "udp.dstport,0.5,0.625,0.5,0.5\n",
      "udp.length,0.5,0.5,0.5,0.375\n",
      "tcp.flags.cwr,0.5,0.5,0.5,0.5\n",
      "tcp.flags.ecn,0.5,0.5,0.5,0.5\n",
      "tcp.flags.urg,0.5,0.5,0.5,0.5\n",
      "tcp.flags.ack,0.75,1.0,0.5,1.0\n",
      "tcp.flags.push,1.0,1.0,0.5,1.0\n",
      "tcp.flags.reset,0.5,0.5,0.5,0.5\n",
      "tcp.flags.syn,0.75,0.5,0.5,0.75\n",
      "tcp.flags.fin,0.5,0.5,0.5,0.6666666666666666\n",
      "tcp.flags.res,0.5,0.5,0.5,0.5\n",
      "tcp.flags.ns,0.5,0.5,0.5,0.5\n",
      "tcp.len,0.5,0.5,0.5,0.5\n",
      "6\n",
      "frame.time_delta,0.5,0.5,0.5,0.5\n",
      "frame.time_relative,0.625,0.5,0.5,0.25\n",
      "ip.version,1.0,1.0,0.5,0.375\n",
      "ip.hdr_len,0.5,0.5,0.5,0.75\n"
     ]
    },
    {
     "name": "stderr",
     "output_type": "stream",
     "text": [
      "/usr/local/lib/python3.7/site-packages/sklearn/linear_model/logistic.py:947: ConvergenceWarning: lbfgs failed to converge. Increase the number of iterations.\n",
      "  \"of iterations.\", ConvergenceWarning)\n"
     ]
    },
    {
     "name": "stdout",
     "output_type": "stream",
     "text": [
      "ip.len,1.0,0.7,1.0,0.5\n",
      "ip.flags.df,0.5,0.75,0.5,0.5\n",
      "ip.flags.mf,0.5,0.5,0.5,0.5\n",
      "ip.flags.rb,0.5,0.5,0.5,0.5\n",
      "ip.flags.sf,0.5,0.5,0.5,0.5\n",
      "ip.dsfield.dscp,0.5,0.5,0.5,0.5\n",
      "ip.dsfield.ecn,0.5,0.5,0.5,0.5\n",
      "ip.tos,0.5,0.5,0.5,0.5\n",
      "ip.ttl,0.5,0.5,0.5,0.25\n",
      "ip.proto,0.9,0.8,1.0,0.5\n",
      "udp.srcport,0.5,0.5,0.5,0.625\n",
      "udp.dstport,0.6,0.4,0.5,0.7\n"
     ]
    },
    {
     "name": "stderr",
     "output_type": "stream",
     "text": [
      "/usr/local/lib/python3.7/site-packages/sklearn/metrics/ranking.py:659: UndefinedMetricWarning: No positive samples in y_true, true positive value should be meaningless\n",
      "  UndefinedMetricWarning)\n",
      "/usr/local/lib/python3.7/site-packages/sklearn/metrics/ranking.py:659: UndefinedMetricWarning: No positive samples in y_true, true positive value should be meaningless\n",
      "  UndefinedMetricWarning)\n",
      "/usr/local/lib/python3.7/site-packages/sklearn/metrics/ranking.py:659: UndefinedMetricWarning: No positive samples in y_true, true positive value should be meaningless\n",
      "  UndefinedMetricWarning)\n",
      "/usr/local/lib/python3.7/site-packages/sklearn/metrics/ranking.py:659: UndefinedMetricWarning: No positive samples in y_true, true positive value should be meaningless\n",
      "  UndefinedMetricWarning)\n"
     ]
    },
    {
     "name": "stdout",
     "output_type": "stream",
     "text": [
      "udp.length,nan,nan,nan,nan\n",
      "tcp.flags.cwr,0.5,0.5,0.5,0.5\n",
      "tcp.flags.ecn,0.5,0.5,0.5,0.5\n",
      "tcp.flags.urg,0.5,0.5,0.5,0.5\n",
      "tcp.flags.ack,0.5,0.75,0.5,0.75\n",
      "tcp.flags.push,1.0,1.0,0.5,1.0\n",
      "tcp.flags.reset,0.5,0.5,0.5,0.6666666666666666\n",
      "tcp.flags.syn,0.5,0.5,0.5,0.8333333333333333\n",
      "tcp.flags.fin,0.5,0.5,0.5,0.75\n",
      "tcp.flags.res,0.5,0.5,0.5,0.5\n",
      "tcp.flags.ns,0.5,0.5,0.5,0.5\n"
     ]
    },
    {
     "name": "stderr",
     "output_type": "stream",
     "text": [
      "/usr/local/lib/python3.7/site-packages/sklearn/linear_model/logistic.py:947: ConvergenceWarning: lbfgs failed to converge. Increase the number of iterations.\n",
      "  \"of iterations.\", ConvergenceWarning)\n"
     ]
    },
    {
     "name": "stdout",
     "output_type": "stream",
     "text": [
      "tcp.len,0.5,0.5,0.5,0.375\n",
      "7\n",
      "frame.time_delta,0.5,0.5,0.5,0.5\n",
      "frame.time_relative,0.75,0.5,0.5,0.75\n",
      "ip.version,0.6666666666666666,0.5,0.5,0.6666666666666667\n",
      "ip.hdr_len,1.0,0.8,0.5,0.7\n",
      "ip.len,1.0,0.7,1.0,0.09999999999999998\n",
      "ip.flags.df,0.6666666666666666,0.8333333333333333,0.5,0.8333333333333333\n",
      "ip.flags.mf,0.5,0.5,0.5,0.5\n",
      "ip.flags.rb,0.5,0.5,0.5,0.5\n",
      "ip.flags.sf,0.5,0.5,0.5,0.5\n",
      "ip.dsfield.dscp,0.5,0.5,0.5,0.5\n",
      "ip.dsfield.ecn,0.5,0.5,0.5,0.5\n",
      "ip.tos,0.5,0.5,0.5,0.5\n",
      "ip.ttl,1.0,0.6,0.5,0.5\n",
      "ip.proto,0.5,0.5,0.5,0.5\n",
      "udp.srcport,0.5,0.5,0.5,0.5\n",
      "udp.dstport,0.375,0.5,0.625,0.25\n",
      "udp.length,0.5,0.5,0.5,0.5\n",
      "tcp.flags.cwr,0.5,0.5,0.5,0.5\n",
      "tcp.flags.ecn,0.5,0.5,0.5,0.5\n",
      "tcp.flags.urg,0.5,0.5,0.5,0.5\n",
      "tcp.flags.ack,0.6666666666666666,0.8333333333333333,0.5,0.6666666666666666\n",
      "tcp.flags.push,0.75,0.75,0.5,0.75\n",
      "tcp.flags.reset,0.5,0.5,0.5,0.75\n",
      "tcp.flags.syn,0.5,0.5,0.5,0.75\n",
      "tcp.flags.fin,0.5,0.5,0.5,1.0\n",
      "tcp.flags.res,0.5,0.5,0.5,0.5\n",
      "tcp.flags.ns,0.5,0.5,0.5,0.5\n"
     ]
    },
    {
     "name": "stderr",
     "output_type": "stream",
     "text": [
      "/usr/local/lib/python3.7/site-packages/sklearn/linear_model/logistic.py:947: ConvergenceWarning: lbfgs failed to converge. Increase the number of iterations.\n",
      "  \"of iterations.\", ConvergenceWarning)\n"
     ]
    },
    {
     "name": "stdout",
     "output_type": "stream",
     "text": [
      "tcp.len,0.5,0.5,0.5,0.625\n",
      "8\n",
      "frame.time_delta,0.625,0.5,0.5,0.625\n",
      "frame.time_relative,0.5,0.5,0.5,0.5\n",
      "ip.version,0.8333333333333333,0.5,0.5,0.5\n",
      "ip.hdr_len,0.5,0.5,0.5,0.5\n"
     ]
    },
    {
     "name": "stderr",
     "output_type": "stream",
     "text": [
      "/usr/local/lib/python3.7/site-packages/sklearn/metrics/ranking.py:659: UndefinedMetricWarning: No positive samples in y_true, true positive value should be meaningless\n",
      "  UndefinedMetricWarning)\n",
      "/usr/local/lib/python3.7/site-packages/sklearn/metrics/ranking.py:659: UndefinedMetricWarning: No positive samples in y_true, true positive value should be meaningless\n",
      "  UndefinedMetricWarning)\n",
      "/usr/local/lib/python3.7/site-packages/sklearn/metrics/ranking.py:659: UndefinedMetricWarning: No positive samples in y_true, true positive value should be meaningless\n",
      "  UndefinedMetricWarning)\n",
      "/usr/local/lib/python3.7/site-packages/sklearn/metrics/ranking.py:659: UndefinedMetricWarning: No positive samples in y_true, true positive value should be meaningless\n",
      "  UndefinedMetricWarning)\n"
     ]
    },
    {
     "name": "stdout",
     "output_type": "stream",
     "text": [
      "ip.len,nan,nan,nan,nan\n",
      "ip.flags.df,0.6666666666666666,0.8333333333333333,0.5,0.8333333333333333\n",
      "ip.flags.mf,0.5,0.5,0.5,0.5\n",
      "ip.flags.rb,0.5,0.5,0.5,0.5\n",
      "ip.flags.sf,0.5,0.5,0.5,0.5\n",
      "ip.dsfield.dscp,0.5,0.5,0.5,0.5\n",
      "ip.dsfield.ecn,0.5,0.5,0.5,0.5\n",
      "ip.tos,0.5,0.5,0.5,0.5\n",
      "ip.ttl,0.5,0.6,0.5,1.0\n",
      "ip.proto,0.5,0.5,0.5,0.5\n",
      "udp.srcport,0.5,0.5,0.5,0.6666666666666666\n",
      "udp.dstport,0.625,0.5,0.625,0.5\n",
      "udp.length,0.09999999999999998,0.4,0.5,0.3\n",
      "tcp.flags.cwr,0.5,0.5,0.5,0.5\n",
      "tcp.flags.ecn,0.5,0.5,0.5,0.5\n",
      "tcp.flags.urg,0.5,0.5,0.5,0.5\n",
      "tcp.flags.ack,0.8333333333333333,1.0,0.5,0.8333333333333334\n",
      "tcp.flags.push,0.5,0.6666666666666666,0.5,0.5\n",
      "tcp.flags.reset,0.5,0.5,0.5,0.5\n",
      "tcp.flags.syn,0.5,0.5,0.5,0.9\n",
      "tcp.flags.fin,0.5,0.5,0.5,0.75\n",
      "tcp.flags.res,0.5,0.5,0.5,0.5\n",
      "tcp.flags.ns,0.5,0.5,0.5,0.5\n",
      "tcp.len,0.5,0.5,0.5,0.625\n",
      "9\n",
      "frame.time_delta,0.6666666666666666,0.5,0.5,0.8333333333333334\n",
      "frame.time_relative,0.75,0.5,0.5,1.0\n",
      "ip.version,0.6666666666666666,0.5,0.5,0.6666666666666666\n",
      "ip.hdr_len,0.5,0.5,0.5,0.5\n",
      "ip.len,0.6666666666666666,0.5,0.6666666666666666,0.3333333333333333\n",
      "ip.flags.df,0.5,0.875,0.5,0.5\n",
      "ip.flags.mf,0.5,0.5,0.5,0.5\n",
      "ip.flags.rb,0.5,0.5,0.5,0.5\n",
      "ip.flags.sf,0.5,0.5,0.5,0.5\n",
      "ip.dsfield.dscp,0.5,0.5,0.5,0.75\n",
      "ip.dsfield.ecn,0.5,0.5,0.5,0.5\n",
      "ip.tos,0.5,0.5,0.5,0.5\n",
      "ip.ttl,0.5,0.5,0.5,0.5\n",
      "ip.proto,0.6666666666666666,0.5,0.5,0.33333333333333337\n",
      "udp.srcport,0.5,0.5,0.5,0.75\n",
      "udp.dstport,0.625,0.5,0.625,0.625\n"
     ]
    },
    {
     "name": "stderr",
     "output_type": "stream",
     "text": [
      "/usr/local/lib/python3.7/site-packages/sklearn/metrics/ranking.py:659: UndefinedMetricWarning: No positive samples in y_true, true positive value should be meaningless\n",
      "  UndefinedMetricWarning)\n",
      "/usr/local/lib/python3.7/site-packages/sklearn/metrics/ranking.py:659: UndefinedMetricWarning: No positive samples in y_true, true positive value should be meaningless\n",
      "  UndefinedMetricWarning)\n",
      "/usr/local/lib/python3.7/site-packages/sklearn/metrics/ranking.py:659: UndefinedMetricWarning: No positive samples in y_true, true positive value should be meaningless\n",
      "  UndefinedMetricWarning)\n",
      "/usr/local/lib/python3.7/site-packages/sklearn/metrics/ranking.py:659: UndefinedMetricWarning: No positive samples in y_true, true positive value should be meaningless\n",
      "  UndefinedMetricWarning)\n"
     ]
    },
    {
     "name": "stdout",
     "output_type": "stream",
     "text": [
      "udp.length,nan,nan,nan,nan\n",
      "tcp.flags.cwr,0.5,0.5,0.5,0.5\n",
      "tcp.flags.ecn,0.5,0.5,0.5,0.5\n",
      "tcp.flags.urg,0.5,0.5,0.5,0.5\n",
      "tcp.flags.ack,0.5,1.0,0.5,0.5\n",
      "tcp.flags.push,0.5,0.75,0.5,0.5\n",
      "tcp.flags.reset,0.5,0.5,0.5,0.6666666666666666\n",
      "tcp.flags.syn,0.5,0.5,0.5,0.5\n",
      "tcp.flags.fin,0.5,0.5,0.5,0.5\n",
      "tcp.flags.res,0.5,0.5,0.5,0.5\n",
      "tcp.flags.ns,0.5,0.5,0.5,0.5\n",
      "tcp.len,0.6666666666666666,0.5,0.5,0.5\n"
     ]
    }
   ],
   "source": [
    "# import warnings filter\n",
    "from warnings import simplefilter\n",
    "# ignore all future warnings\n",
    "simplefilter(action='ignore', category=FutureWarning)\n",
    "\n",
    "# results = open(\"result.txt\", \"a\")\n",
    "for i in range(10):\n",
    "    print(i)\n",
    "    columns = ['frame.number', 'frame.time', 'frame.time_delta', 'frame.time_relative', 'eth.src_resolved', 'eth.dst_resolved', 'eth.src', 'eth.dst', 'eth.type', 'ip.version', 'ip.hdr_len', 'ip.len', 'ip.id', 'ip.flags.df', 'ip.flags.mf', 'ip.flags.rb', 'ip.flags.sf', 'ip.dsfield.dscp', 'ip.dsfield.ecn', 'ip.tos', 'ip.ttl', 'ip.proto', 'ip.src', 'ip.dst', 'udp.srcport', 'udp.dstport', 'udp.length', 'tcp.flags.cwr', 'tcp.flags.ecn', 'tcp.flags.urg', 'tcp.flags.ack', 'tcp.flags.push', 'tcp.flags.reset', 'tcp.flags.syn', 'tcp.flags.fin', 'tcp.flags.res', 'tcp.flags.ns', 'tcp.len', 'frame.len']\n",
    "    for col in columns:\n",
    "        if type(data[col].tolist()[1]).__name__ == 'float':\n",
    "            evaluate_column(col)"
   ]
  },
  {
   "cell_type": "code",
   "execution_count": 50,
   "metadata": {},
   "outputs": [
    {
     "name": "stdout",
     "output_type": "stream",
     "text": [
      "frame.time_delta,0.5,0.5,0.5,0.5\n",
      "frame.time_relative,0.75,0.5,0.5,0.5\n",
      "ip.version,0.75,1.0,0.5,0.875\n",
      "ip.hdr_len,0.5,0.5,0.5,0.5\n",
      "ip.len,0.5,0.5,0.5,0.5\n",
      "ip.flags.df,0.6666666666666666,1.0,0.5,0.5\n",
      "ip.flags.mf,0.5,0.5,0.5,0.5\n",
      "ip.flags.rb,0.5,0.5,0.5,0.5\n",
      "ip.flags.sf,0.5,0.5,0.5,0.5\n",
      "ip.dsfield.dscp,0.5,0.5,0.5,0.5\n",
      "ip.dsfield.ecn,0.5,0.5,0.5,0.5\n",
      "ip.tos,0.5,0.5,0.5,0.5\n",
      "ip.ttl,0.5,0.5,0.5,0.5\n",
      "ip.proto,0.75,0.5,0.5,0.5\n",
      "udp.srcport,0.375,0.5,0.375,0.25\n",
      "udp.dstport,0.5,0.5,0.5,0.5\n",
      "udp.length,0.5,0.5,0.5,0.75\n",
      "tcp.flags.cwr,0.5,0.5,0.5,0.5\n",
      "tcp.flags.ecn,0.5,0.5,0.5,0.5\n",
      "tcp.flags.urg,0.5,0.5,0.5,0.5\n",
      "tcp.flags.ack,0.8333333333333333,1.0,0.5,0.6666666666666667\n",
      "tcp.flags.push,0.5,0.875,0.5,0.75\n",
      "tcp.flags.reset,0.5,0.5,0.5,1.0\n",
      "tcp.flags.syn,0.5,0.5,0.5,0.6666666666666666\n",
      "tcp.flags.fin,0.5,0.5,0.5,1.0\n",
      "tcp.flags.res,0.5,0.5,0.5,0.5\n",
      "tcp.flags.ns,0.5,0.5,0.5,0.5\n"
     ]
    },
    {
     "name": "stderr",
     "output_type": "stream",
     "text": [
      "/usr/local/lib/python3.7/site-packages/sklearn/linear_model/logistic.py:947: ConvergenceWarning: lbfgs failed to converge. Increase the number of iterations.\n",
      "  \"of iterations.\", ConvergenceWarning)\n"
     ]
    },
    {
     "name": "stdout",
     "output_type": "stream",
     "text": [
      "tcp.len,0.5,0.5,0.5,0.625\n"
     ]
    }
   ],
   "source": [
    "# import warnings filter\n",
    "from warnings import simplefilter\n",
    "# ignore all future warnings\n",
    "simplefilter(action='ignore', category=FutureWarning)\n",
    "\n",
    "# results = open(\"result.txt\", \"a\")\n",
    "columns = ['frame.number', 'frame.time', 'frame.time_delta', 'frame.time_relative', 'eth.src_resolved', 'eth.dst_resolved', 'eth.src', 'eth.dst', 'eth.type', 'ip.version', 'ip.hdr_len', 'ip.len', 'ip.id', 'ip.flags.df', 'ip.flags.mf', 'ip.flags.rb', 'ip.flags.sf', 'ip.dsfield.dscp', 'ip.dsfield.ecn', 'ip.tos', 'ip.ttl', 'ip.proto', 'ip.src', 'ip.dst', 'udp.srcport', 'udp.dstport', 'udp.length', 'tcp.flags.cwr', 'tcp.flags.ecn', 'tcp.flags.urg', 'tcp.flags.ack', 'tcp.flags.push', 'tcp.flags.reset', 'tcp.flags.syn', 'tcp.flags.fin', 'tcp.flags.res', 'tcp.flags.ns', 'tcp.len', 'frame.len']\n",
    "for col in columns:\n",
    "    if type(data[col].tolist()[1]).__name__ == 'float':\n",
    "        evaluate_column(col)"
   ]
  },
  {
   "cell_type": "code",
   "execution_count": 45,
   "metadata": {
    "scrolled": true
   },
   "outputs": [
    {
     "name": "stdout",
     "output_type": "stream",
     "text": [
      "frame.time_delta,0.75,0.5,0.5,0.75\n",
      "frame.time_relative,0.5,0.9,0.5,0.09999999999999998\n",
      "ip.version,0.75,0.5,0.5,0.75\n",
      "ip.hdr_len,0.5,0.5,0.5,0.5\n",
      "ip.len,0.5,0.5,0.5,0.5\n",
      "ip.flags.df,0.75,1.0,0.5,0.875\n",
      "ip.flags.mf,0.5,0.5,0.5,0.5\n",
      "ip.flags.rb,0.5,0.5,0.5,0.5\n",
      "ip.flags.sf,0.5,0.5,0.5,0.5\n",
      "ip.dsfield.dscp,0.5,0.5,0.5,0.5\n",
      "ip.dsfield.ecn,0.5,0.5,0.5,0.5\n",
      "ip.tos,0.5,0.5,0.5,0.5\n",
      "ip.ttl,0.5,0.5,0.5,0.5\n",
      "ip.proto,0.75,0.5,0.5,0.5\n",
      "udp.srcport,0.5,0.5,0.5,0.5\n",
      "udp.dstport,0.6,0.5,0.5,0.2\n",
      "udp.length,0.5,0.5,0.5,0.5\n",
      "tcp.flags.cwr,0.5,0.5,0.5,0.5\n",
      "tcp.flags.ecn,0.5,0.5,0.5,0.5\n",
      "tcp.flags.urg,0.5,0.5,0.5,0.5\n",
      "tcp.flags.ack,0.5,0.8333333333333333,0.5,0.5\n",
      "tcp.flags.push,0.5,0.75,0.5,0.5\n",
      "tcp.flags.reset,0.5,0.5,0.5,0.5\n",
      "tcp.flags.syn,0.5,0.5,0.5,0.5\n",
      "tcp.flags.fin,0.5,0.5,0.5,0.6666666666666666\n",
      "tcp.flags.res,0.5,0.5,0.5,0.5\n",
      "tcp.flags.ns,0.5,0.5,0.5,0.5\n",
      "tcp.len,0.5,0.5,0.5,0.625\n"
     ]
    }
   ],
   "source": [
    "# import warnings filter\n",
    "from warnings import simplefilter\n",
    "# ignore all future warnings\n",
    "simplefilter(action='ignore', category=FutureWarning)\n",
    "\n",
    "# results = open(\"result.txt\", \"a\")\n",
    "columns = ['frame.number', 'frame.time', 'frame.time_delta', 'frame.time_relative', 'eth.src_resolved', 'eth.dst_resolved', 'eth.src', 'eth.dst', 'eth.type', 'ip.version', 'ip.hdr_len', 'ip.len', 'ip.id', 'ip.flags.df', 'ip.flags.mf', 'ip.flags.rb', 'ip.flags.sf', 'ip.dsfield.dscp', 'ip.dsfield.ecn', 'ip.tos', 'ip.ttl', 'ip.proto', 'ip.src', 'ip.dst', 'udp.srcport', 'udp.dstport', 'udp.length', 'tcp.flags.cwr', 'tcp.flags.ecn', 'tcp.flags.urg', 'tcp.flags.ack', 'tcp.flags.push', 'tcp.flags.reset', 'tcp.flags.syn', 'tcp.flags.fin', 'tcp.flags.res', 'tcp.flags.ns', 'tcp.len', 'frame.len']\n",
    "for col in columns:\n",
    "    if type(data[col].tolist()[1]).__name__ == 'float':\n",
    "        evaluate_column(col)\n",
    "#         results.write(evaluate_column(col))"
   ]
  },
  {
   "cell_type": "code",
   "execution_count": null,
   "metadata": {
    "pycharm": {
     "name": "#%%\n"
    }
   },
   "outputs": [],
   "source": [
    "for col in data.columns:\n",
    "    if type(data[col].tolist()[1]).__name__ == 'float':\n",
    "        evaluate_column(col)"
   ]
  },
  {
   "cell_type": "markdown",
   "metadata": {},
   "source": [
    "## PyTorch classification"
   ]
  },
  {
   "cell_type": "code",
   "execution_count": null,
   "metadata": {},
   "outputs": [],
   "source": []
  }
 ],
 "metadata": {
  "kernelspec": {
   "display_name": "Python 3",
   "language": "python",
   "name": "python3"
  },
  "language_info": {
   "codemirror_mode": {
    "name": "ipython",
    "version": 3
   },
   "file_extension": ".py",
   "mimetype": "text/x-python",
   "name": "python",
   "nbconvert_exporter": "python",
   "pygments_lexer": "ipython3",
   "version": "3.7.7"
  },
  "latex_envs": {
   "LaTeX_envs_menu_present": true,
   "autoclose": false,
   "autocomplete": true,
   "bibliofile": "biblio.bib",
   "cite_by": "apalike",
   "current_citInitial": 1,
   "eqLabelWithNumbers": true,
   "eqNumInitial": 1,
   "hotkeys": {
    "equation": "Ctrl-E",
    "itemize": "Ctrl-I"
   },
   "labels_anchors": false,
   "latex_user_defs": false,
   "report_style_numbering": false,
   "user_envs_cfg": false
  },
  "toc": {
   "base_numbering": 1,
   "nav_menu": {},
   "number_sections": true,
   "sideBar": true,
   "skip_h1_title": false,
   "title_cell": "Table of Contents",
   "title_sidebar": "Contents",
   "toc_cell": false,
   "toc_position": {},
   "toc_section_display": true,
   "toc_window_display": false
  }
 },
 "nbformat": 4,
 "nbformat_minor": 2
}
