{
 "cells": [
  {
   "cell_type": "code",
   "execution_count": 1,
   "metadata": {
    "ExecuteTime": {
     "end_time": "2021-06-22T17:43:12.202022Z",
     "start_time": "2021-06-22T17:43:11.427965Z"
    }
   },
   "outputs": [],
   "source": [
    "import numpy as np\n",
    "import os\n",
    "import matplotlib.pyplot as plt "
   ]
  },
  {
   "cell_type": "code",
   "execution_count": 26,
   "metadata": {},
   "outputs": [],
   "source": [
    "# load the current video features\n",
    "base = 'output_2'\n",
    "output_dir = './output_mp4'\n",
    "\n",
    "\n",
    "for f in os.listdir(base):\n",
    "    if f.endswith('.npy'):\n",
    "        f_2 = os.path.join(base, f)\n",
    "        arr = np.load(f_2)\n",
    "        arr2 = np.zeros((arr.shape[1],))\n",
    "        for i in range(arr.shape[0]):\n",
    "            arr2 += arr[i] - arr[0]\n",
    "            \n",
    "        arr2 = np.clip(arr2, -2, 2)\n",
    "        p_2 = os.path.join(output_dir, f)\n",
    "        \n",
    "        np.save(p_2, arr2)\n"
   ]
  },
  {
   "cell_type": "code",
   "execution_count": 4,
   "metadata": {
    "ExecuteTime": {
     "end_time": "2021-06-22T17:44:47.627495Z",
     "start_time": "2021-06-22T17:44:47.620902Z"
    }
   },
   "outputs": [],
   "source": [
    "sample = np.load(\"/Users/shinanliu/Documents/Auto-labeling/HIoT/video-feature/output_mp4/ask_time_1_1614904536_1_vgg.npy\")"
   ]
  },
  {
   "cell_type": "code",
   "execution_count": 5,
   "metadata": {
    "ExecuteTime": {
     "end_time": "2021-06-22T17:44:54.766653Z",
     "start_time": "2021-06-22T17:44:54.760992Z"
    }
   },
   "outputs": [
    {
     "data": {
      "text/plain": [
       "(36, 4096)"
      ]
     },
     "execution_count": 5,
     "metadata": {},
     "output_type": "execute_result"
    }
   ],
   "source": [
    "np.shape(sample)"
   ]
  },
  {
   "cell_type": "code",
   "execution_count": 10,
   "metadata": {
    "ExecuteTime": {
     "end_time": "2021-06-22T17:48:27.682851Z",
     "start_time": "2021-06-22T17:48:27.677953Z"
    }
   },
   "outputs": [
    {
     "data": {
      "text/plain": [
       "(4096,)"
      ]
     },
     "execution_count": 10,
     "metadata": {},
     "output_type": "execute_result"
    }
   ],
   "source": [
    "np.mean(sample, axis=0).shape"
   ]
  },
  {
   "cell_type": "code",
   "execution_count": null,
   "metadata": {},
   "outputs": [],
   "source": []
  }
 ],
 "metadata": {
  "kernelspec": {
   "display_name": "Python 3",
   "language": "python",
   "name": "python3"
  },
  "language_info": {
   "codemirror_mode": {
    "name": "ipython",
    "version": 3
   },
   "file_extension": ".py",
   "mimetype": "text/x-python",
   "name": "python",
   "nbconvert_exporter": "python",
   "pygments_lexer": "ipython3",
   "version": "3.7.7"
  },
  "latex_envs": {
   "LaTeX_envs_menu_present": true,
   "autoclose": false,
   "autocomplete": true,
   "bibliofile": "biblio.bib",
   "cite_by": "apalike",
   "current_citInitial": 1,
   "eqLabelWithNumbers": true,
   "eqNumInitial": 1,
   "hotkeys": {
    "equation": "Ctrl-E",
    "itemize": "Ctrl-I"
   },
   "labels_anchors": false,
   "latex_user_defs": false,
   "report_style_numbering": false,
   "user_envs_cfg": false
  },
  "toc": {
   "base_numbering": 1,
   "nav_menu": {},
   "number_sections": true,
   "sideBar": true,
   "skip_h1_title": false,
   "title_cell": "Table of Contents",
   "title_sidebar": "Contents",
   "toc_cell": false,
   "toc_position": {},
   "toc_section_display": true,
   "toc_window_display": false
  }
 },
 "nbformat": 4,
 "nbformat_minor": 4
}
