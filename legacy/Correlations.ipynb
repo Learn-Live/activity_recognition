{
 "cells": [
  {
   "cell_type": "markdown",
   "metadata": {},
   "source": [
    "# Loading Data"
   ]
  },
  {
   "cell_type": "code",
   "execution_count": 1,
   "metadata": {},
   "outputs": [],
   "source": [
    "import numpy as np\n",
    "import os"
   ]
  },
  {
   "cell_type": "code",
   "execution_count": 2,
   "metadata": {},
   "outputs": [
    {
     "name": "stdout",
     "output_type": "stream",
     "text": [
      "(569, 4096)\n",
      "(569, 4096)\n"
     ]
    }
   ],
   "source": [
    "# load the current video features\n",
    "base = 'output_mkv'\n",
    "base_2 = 'output_mp4'\n",
    "\n",
    "X = []\n",
    "Y = []\n",
    "for f in os.listdir(base):\n",
    "    if f.endswith('.npy'):\n",
    "        f_2 = f[:-9] + '1_vgg.npy'\n",
    "        f = os.path.join(base, f)\n",
    "        f_2 = os.path.join(base_2, f_2)\n",
    "        if not os.path.exists(f_2):\n",
    "            print(f_2)\n",
    "        X.append(np.load(f))\n",
    "        Y.append(np.load(f_2))\n",
    "\n",
    "Y = np.asarray(Y)\n",
    "X = np.asarray(X)\n",
    "print(Y.shape)\n",
    "print(X.shape)\n",
    "\n"
   ]
  },
  {
   "cell_type": "code",
   "execution_count": 3,
   "metadata": {},
   "outputs": [
    {
     "name": "stdout",
     "output_type": "stream",
     "text": [
      "[0.01176646 0.06696985 0.06043117 ... 0.0153831  0.72188234 1.37248094]\n",
      "[-0.05813786 -0.09971369  0.12266724 ... -0.3428845   0.050877\n",
      "  1.88082035]\n"
     ]
    }
   ],
   "source": [
    "print(Y[-1])\n",
    "print(X[-1])"
   ]
  },
  {
   "cell_type": "markdown",
   "metadata": {},
   "source": [
    "# Sklearn Correlation For Video\n",
    "\n",
    "Find correlation between the two video feeds with Canonical Correlation Analysis."
   ]
  },
  {
   "cell_type": "code",
   "execution_count": 4,
   "metadata": {},
   "outputs": [
    {
     "name": "stdout",
     "output_type": "stream",
     "text": [
      "(569, 10)\n",
      "(569, 10)\n"
     ]
    }
   ],
   "source": [
    "from sklearn.cross_decomposition import CCA\n",
    "\n",
    "\n",
    "model_10 = CCA(10)\n",
    "model_10.fit(X, Y)\n",
    "\n",
    "X_c, Y_c = model_10.transform(X, Y)\n",
    "\n",
    "print(X_c.shape)\n",
    "print(Y_c.shape)"
   ]
  },
  {
   "cell_type": "code",
   "execution_count": 7,
   "metadata": {},
   "outputs": [
    {
     "name": "stdout",
     "output_type": "stream",
     "text": [
      "(569, 1)\n",
      "(569, 1)\n"
     ]
    }
   ],
   "source": [
    "from sklearn.cross_decomposition import CCA\n",
    "\n",
    "\n",
    "model = CCA(1)\n",
    "model.fit(X, Y)\n",
    "\n",
    "X_c= model.transform(X)\n",
    "Y_c = model.transform(Y)\n",
    "print(X_c.shape)\n",
    "print(Y_c.shape)"
   ]
  },
  {
   "cell_type": "markdown",
   "metadata": {},
   "source": [
    "# Graphs"
   ]
  },
  {
   "cell_type": "code",
   "execution_count": 9,
   "metadata": {},
   "outputs": [
    {
     "data": {
      "text/plain": [
       "<matplotlib.collections.PathCollection at 0x7fde669324f0>"
      ]
     },
     "execution_count": 9,
     "metadata": {},
     "output_type": "execute_result"
    },
    {
     "data": {
      "image/png": "[encoded data removed]",
      "text/plain": [
       "<Figure size 432x288 with 1 Axes>"
      ]
     },
     "metadata": {
      "needs_background": "light"
     },
     "output_type": "display_data"
    }
   ],
   "source": [
    "import matplotlib.pyplot as plt\n",
    "\n",
    "plt.scatter(X_c, Y_c)"
   ]
  },
  {
   "cell_type": "code",
   "execution_count": 10,
   "metadata": {},
   "outputs": [
    {
     "data": {
      "text/plain": [
       "<matplotlib.collections.PathCollection at 0x7fde669baf70>"
      ]
     },
     "execution_count": 10,
     "metadata": {},
     "output_type": "execute_result"
    },
    {
     "data": {
      "image/png": "[encoded data removed]",
      "text/plain": [
       "<Figure size 432x288 with 1 Axes>"
      ]
     },
     "metadata": {
      "needs_background": "light"
     },
     "output_type": "display_data"
    }
   ],
   "source": [
    "from sklearn.cross_decomposition import CCA\n",
    "\n",
    "\n",
    "model = CCA(1)\n",
    "model.fit(Y, X)\n",
    "\n",
    "X_c= model.transform(X)\n",
    "Y_c = model.transform(Y)\n",
    "plt.scatter(X_c, Y_c)"
   ]
  },
  {
   "cell_type": "code",
   "execution_count": null,
   "metadata": {},
   "outputs": [],
   "source": []
  }
 ],
 "metadata": {
  "kernelspec": {
   "display_name": "Python 3",
   "language": "python",
   "name": "python3"
  },
  "language_info": {
   "codemirror_mode": {
    "name": "ipython",
    "version": 3
   },
   "file_extension": ".py",
   "mimetype": "text/x-python",
   "name": "python",
   "nbconvert_exporter": "python",
   "pygments_lexer": "ipython3",
   "version": "3.8.5"
  }
 },
 "nbformat": 4,
 "nbformat_minor": 4
}
